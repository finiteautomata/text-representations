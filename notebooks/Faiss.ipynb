{
 "cells": [
  {
   "cell_type": "code",
   "execution_count": 1,
   "metadata": {},
   "outputs": [],
   "source": [
    "import faiss\n",
    "from representations.contracts import contracts\n",
    "from sentence_transformers import SentenceTransformer\n",
    "\n",
    "model = SentenceTransformer('all-mpnet-base-v2')"
   ]
  },
  {
   "cell_type": "markdown",
   "metadata": {},
   "source": [
    "## Create index\n"
   ]
  },
  {
   "cell_type": "code",
   "execution_count": null,
   "metadata": {},
   "outputs": [],
   "source": []
  },
  {
   "cell_type": "code",
   "execution_count": 18,
   "metadata": {},
   "outputs": [
    {
     "name": "stderr",
     "output_type": "stream",
     "text": [
      "51it [00:49,  1.04it/s]\n"
     ]
    }
   ],
   "source": [
    "from tqdm import tqdm \n",
    "\n",
    "\n",
    "count = 50\n",
    "\n",
    "metadata = []\n",
    "X = []\n",
    "\n",
    "for i, (contract, paragraph_gen) in tqdm(enumerate(contracts.items())):\n",
    "    paragraphs = list(paragraph_gen())\n",
    "    metadata += [(contract, i, p) for i, p in enumerate(paragraphs)]\n",
    "    paragraph_vecs = model.encode(paragraphs)\n",
    "    X.append(paragraph_vecs)\n",
    "    if i > count:\n",
    "        break\n",
    "        "
   ]
  },
  {
   "cell_type": "code",
   "execution_count": 19,
   "metadata": {},
   "outputs": [
    {
     "data": {
      "text/plain": [
       "(16646, 768)"
      ]
     },
     "execution_count": 19,
     "metadata": {},
     "output_type": "execute_result"
    }
   ],
   "source": [
    "import numpy as np\n",
    "\n",
    "Xb = np.concatenate(X, axis=0)\n",
    "\n",
    "Xb.shape"
   ]
  },
  {
   "cell_type": "markdown",
   "metadata": {},
   "source": [
    "Create index"
   ]
  },
  {
   "cell_type": "code",
   "execution_count": 20,
   "metadata": {},
   "outputs": [],
   "source": [
    "#num cells\n",
    "nlist = 100\n",
    "k = 4\n",
    "\n",
    "dim = 768\n",
    "\n",
    "quantizer = faiss.IndexFlatL2(dim)  # the other index\n",
    "index = faiss.IndexIVFFlat(quantizer, dim, nlist)\n",
    "\n",
    "index.train(Xb)\n",
    "assert index.is_trained\n",
    "\n",
    "index.add(Xb)"
   ]
  },
  {
   "cell_type": "code",
   "execution_count": 58,
   "metadata": {},
   "outputs": [
    {
     "data": {
      "text/plain": [
       "[('Bright Horizons - Credit Agreement',\n",
       "  13,\n",
       "  'Now, Therefore, in consideration of the premises and the covenants and obligations contained herein, the parties hereto agree as follows:'),\n",
       " ('Bright Horizons - Credit Agreement',\n",
       "  14,\n",
       "  'Section 1. Refinancing Amendment.'),\n",
       " ('Bright Horizons - Credit Agreement',\n",
       "  15,\n",
       "  '(a) This Section 1 and Section 2 hereto constitute a \"Refinancing Amendment\" pursuant to which (i) each Refinancing Term Lender commits to make, severally but not jointly, to the Borrower Other Term Loans on the Effective Date in a principal amount equal to the amount set forth opposite such Refinancing Term Lender’s name under the heading \"Other Term Loans\" on Schedule 1 hereto (each, an \"Other Term Loan Commitment\") and (ii) each Refinancing Revolving Lender commits to make, severally but not jointly, to the Borrower Other Revolving Credit Commitments on the Effective Date in a principal amount equal to the amount set forth opposite such Refinancing Revolving Lender’s name under the heading \"Other Revolving Credit Commitments\" on Schedule 2 hereto. Each of the parties hereto agrees that, after giving effect to this Agreement, the Revolving Credit Commitment of each Revolving Credit Lender (as of the Effective Date) shall be as set forth on Schedule 2 hereto. The aggregate principal amount of the Other Term Loan Commitments of all Refinancing Term Lenders as of the date of this Agreement is $1,072,312,500. The aggregate principal amount of the Other Revolving Credit Commitments of all Refinancing Revolving Lenders as of the date of this Agreement is $225,000,000. Unless previously terminated, the Other Term Loan Commitments shall terminate at 5:00 p.m., New York City time, on the date of initial funding of the Other Term Loans.'),\n",
       " ('Bright Horizons - Credit Agreement',\n",
       "  16,\n",
       "  '(b) Other Term Loans borrowed under this Section 1 and repaid or prepaid may not be reborrowed. Other Term Loans and Other Revolving Credit Loans may be Base Rate Loans or Eurocurrency Rate Loans, as further provided in the Existing Credit Agreement and the Amended Credit Agreement.'),\n",
       " ('Bright Horizons - Credit Agreement',\n",
       "  17,\n",
       "  '(c) The Borrower shall use (i) the proceeds of the Other Term Loans to prepay in full, on the Effective Date, the outstanding principal amount of the Existing Term Loans, (ii) the proceeds of the Other Revolving Credit Loans to be made on the Effective Date to prepay in full, on the Effective Date, the outstanding principal amount of the Existing Revolving Credit Loans, and (iii) cash on hand to pay (A) all accrued but unpaid interest and fees on the Existing Term Loans and Existing Revolving Credit Loans and (B) all fees, costs and expenses incurred or payable by the Borrower in connection with the foregoing and with the execution and delivery of this Agreement by each person party hereto, the satisfaction and/or waiver of the conditions to the effectiveness hereof and the consummation of the transactions contemplated hereby (including the borrowing of the Other Term Loans and the Other Revolving Credit Loans).'),\n",
       " ('Bright Horizons - Credit Agreement',\n",
       "  18,\n",
       "  '(d) Notwithstanding anything herein (including Sections 1(a) and 1(c) hereof) or in the Existing Credit Agreement to the contrary, (i) each Refinancing Term Lender holding an Existing Term Loan immediately prior to the Effective Date (each such Refinancing Term Lender, an \"Existing Term Lender\") that, by executing and delivering a signature page hereto, elects \"cashless roll\" treatment shall be deemed to have made to the Borrower an Other Term Loan on the Effective Date in an amount (such Existing Term Lender’s \"Cashless Roll Term Amount\") equal to the lesser of (A) the aggregate principal amount of the Existing Term Loan held by such Existing Term Lender immediately prior to the Effective Date (such Existing Lender’s \"Existing Term Loan Amount\") and (B) such Existing Term Lender’s Other Term Loan Commitment; provided that if such Existing Term Lender’s Other Term Loan Commitment exceeds such Existing Lender’s Existing Term Loan Amount, then such Existing Term Lender shall be required to make an Other Term Loan to the Borrower on the Effective Date in accordance with Section 1(a) hereof in an aggregate principal amount equal to such excess, and (ii) the Borrower shall be deemed to have prepaid, on the Effective Date, an amount of the Existing Term Loan of each Existing Lender in an aggregate principal amount equal to the lesser of (A) such Existing Term Lender’s Existing Term Loan Amount and (B) such Existing Term Lender’s Other Term Loan Commitment; provided that (1) if such Existing Term Lender’s Existing Term Loan Amount exceeds such Existing Term Lender’s Other Term Loan Commitment, then the Borrower shall be required to prepay in full, on the Effective Date in accordance with Section 1(c) hereof, the outstanding principal amount of the Existing Term Loan of such Existing Term Lender not deemed to be prepaid pursuant to this clause (ii) and (2) notwithstanding the operation of this clause (ii), the Borrower shall be required to pay to such Existing Term Lender, on the Effective Date, all accrued but unpaid interest and fees on the outstanding principal amount of the Existing Term Loans of such Existing Term Lender immediately prior to the Effective Date.'),\n",
       " ('Bright Horizons - Credit Agreement',\n",
       "  19,\n",
       "  '(e) Each of the parties hereto agrees that after giving effect to this Agreement, the Revolving Credit Commitments under the Credit Agreement shall be as set forth on Schedule 2 hereto and shall replace the Existing Revolving Credit Commitments. In connection with this Agreement, the Existing Revolving Credit Loans shall be, or deemed to be, repaid in full on the Effective Date, together with all accrued and unpaid interest thereon and all related fees and expenses, and concurrently with such prepayment, new Revolving Credit Loans will be made by, or reallocated to, the Refinancing Revolving Lenders party hereto in an aggregate principal amount equal to the Existing Revolving Credit Loans, based on each such Refinancing Revolving Lender’s new Revolving Credit Commitments on Schedule 2 hereto.'),\n",
       " ('Bright Horizons - Credit Agreement',\n",
       "  20,\n",
       "  '(f) Each of the parties hereto agrees that after giving effect to this Agreement, each Letter of Credit issued under the Existing Credit Agreement on or prior to the Effective Date shall be deemed to constitute a Letter of Credit issued under the Amended Credit Agreement and the Revolving Credit Lender that is an issuer of such Letter of Credit shall be deemed to be an L/C Issuer for such Letter of Credit; provided that any renewal or replacement of any such Letter of Credit shall be issued by an L/C Issuer pursuant to the terms of the Amended Credit Agreement.'),\n",
       " ('Bright Horizons - Credit Agreement',\n",
       "  21,\n",
       "  '(g) Each of the parties hereto agrees that no amounts shall be due under Section 3.05 of the Existing Credit Agreement in respect of the transactions set forth in this Section 1.'),\n",
       " ('Bright Horizons - Credit Agreement',\n",
       "  22,\n",
       "  'Section 2. Refinancing Amendments to Existing Credit Agreement'),\n",
       " ('Bright Horizons - Credit Agreement',\n",
       "  23,\n",
       "  '(a) The following defined terms shall be added to Section 1.01 of the Existing Credit Agreement in the appropriate alphabetical order:'),\n",
       " ('Bright Horizons - Credit Agreement',\n",
       "  24,\n",
       "  '\"New Commitment\" has the meaning specified in Section 2.10(d).'),\n",
       " ('Bright Horizons - Credit Agreement',\n",
       "  25,\n",
       "  '\"Refinancing Amendment Agreement\" means the Amendment Agreement, dated as of May 8, 2017, by and among the Borrower, Holdings, the Administrative Agent and the Lenders party thereto.'),\n",
       " ('Bright Horizons - Credit Agreement',\n",
       "  26,\n",
       "  '\"Refinancing Amendment Effective Date\" means May 8, 2017.'),\n",
       " ('Bright Horizons - Credit Agreement',\n",
       "  27,\n",
       "  '\"Rolled Commitment\" has the meaning specified in Section 2.10(d).'),\n",
       " ('Bright Horizons - Credit Agreement',\n",
       "  28,\n",
       "  '(b) The definition of \"Applicable Rate\" set forth in Section 1.01 of the Existing Credit Agreement is hereby amended by:'),\n",
       " ('Bright Horizons - Credit Agreement',\n",
       "  29,\n",
       "  '(i) replacing clause (a) thereof in its entirety with the text \"with respect to Term B Loans, (A) for Eurocurrency Rate Loans, 2.25% and (B) for Base Rate Loans, 1.25%\";'),\n",
       " ('Bright Horizons - Credit Agreement',\n",
       "  30,\n",
       "  '(ii) replacing clause (b) thereof in its entirety with the following text:'),\n",
       " ('Bright Horizons - Credit Agreement',\n",
       "  31,\n",
       "  '\"with respect to unused Revolving Credit Commitments and the commitment fee therefor, (i) until delivery of financial statements for the first full fiscal quarter of the Borrower ending after the Refinancing Amendment Effective Date, 0.40%, and (ii) thereafter, the percentages per annum set forth in the table below, based upon the Consolidated First Lien Net Leverage Ratio as set forth in the most recent Compliance Certificate received by the Administrative Agent pursuant to Section 6.02(a):'),\n",
       " ('Bright Horizons - Credit Agreement', 32, 'Pricing Level'),\n",
       " ('Bright Horizons - Credit Agreement',\n",
       "  33,\n",
       "  'Consolidated First Lien Net Leverage Ratio'),\n",
       " ('Bright Horizons - Credit Agreement',\n",
       "  34,\n",
       "  'Commitment Fee for unused Revolving Credit Commitments Greater than 3.00:1.00'),\n",
       " ('Bright Horizons - Credit Agreement',\n",
       "  35,\n",
       "  '0.40% Greater than 2.00:1.00 but less than or equal to 3:00:1:00'),\n",
       " ('Bright Horizons - Credit Agreement',\n",
       "  36,\n",
       "  '0.35% Less than or equal to 2.00:1.00'),\n",
       " ('Bright Horizons - Credit Agreement', 37, '0.30%\"; and'),\n",
       " ('Bright Horizons - Credit Agreement',\n",
       "  38,\n",
       "  '(iii) replacing clause (c) thereof in its entirety with the following text:'),\n",
       " ('Bright Horizons - Credit Agreement',\n",
       "  39,\n",
       "  '\"with respect to Revolving Credit Loans and Letter of Credit fees (i) prior to delivery of financial statements for the first full fiscal quarter of the Borrower ending after the Refinancing Amendment Effective Date, (A) for Eurocurrency Rate Loans, 2.25%, (B) for Base Rate Loans, 1.25% and (C) for Letter of Credit fees, 2.25% and (ii) thereafter, the following percentages per annum set forth in the table below, based upon the Consolidated First Lien Net Leverage Ratio as set forth in the most recent Compliance Certificate received by the Administrative Agent pursuant to Section 6.02(a):'),\n",
       " ('Bright Horizons - Credit Agreement', 40, 'Pricing Level'),\n",
       " ('Bright Horizons - Credit Agreement',\n",
       "  41,\n",
       "  'Consolidated First Lien Net Leverage Ratio'),\n",
       " ('Bright Horizons - Credit Agreement',\n",
       "  42,\n",
       "  'Eurocurrency Rate for Revolving Credit Loans and Letter of Credit fees'),\n",
       " ('Bright Horizons - Credit Agreement',\n",
       "  43,\n",
       "  'Base Rate for Revolving Credit Loans Greater than 3.00:1.00')]"
      ]
     },
     "execution_count": 58,
     "metadata": {},
     "output_type": "execute_result"
    }
   ],
   "source": [
    "metadata[1024:1055]"
   ]
  },
  {
   "cell_type": "code",
   "execution_count": 55,
   "metadata": {},
   "outputs": [
    {
     "name": "stdout",
     "output_type": "stream",
     "text": [
      "Query: An \"Individual\" refers to any person, corporation, venture, company, organization or Government Institution.\n",
      "Closest:\n",
      "1  (0.473): \"Person\" means any individual, corporation, partnership, joint venture, limited liability company, trust or unincorporated organization or Governmental Authority. ||| ADMA \n",
      "2  (0.480): (i)   \"Person\" means an individual or entity including any limited liability company, a partnership, a joint venture, a corporation, a trust, an unincorporated organization and a government or any department or agency thereof. ||| 0001140361-19-013661:nc10003419x2_ex10-1 \n",
      "3  (0.484): \"Person\" means an individual, corporation, partnership, limited liability company, trust or unincorporated organization or a government or any agency or political subdivision thereof, or any other entity. ||| GA - Purchase Agreement \n",
      "4  (0.498): \"Person\" means an individual or corporation, partnership, trust, incorporated or unincorporated association, joint venture, limited liability company, joint stock company, government (or an agency or subdivision thereof) or other entity of any kind. ||| 0001437749-21-012365:ex_250228 \n",
      "5  (0.511): \"Person\" means any natural person, corporation, limited liability company, trust, joint venture, association, company, partnership, Governmental Authority or other entity. ||| Biogen Credit Agreement \n",
      "6  (0.519): \"Person\" means any natural person, corporation, limited liability company, trust, joint venture, association, company, partnership, Governmental Authority, vessel or other entity. ||| 0001193125-22-066929:d304564dex101 \n",
      "7  (0.527): \"Person\" means any natural person, corporation, limited liability company, professional association, limited partnership, general partnership, joint stock company, joint venture, association, company, trust, bank, trust company, land trust, business trust or other organization, whether or not a legal entity, and any Governmental Authority. ||| Sample DIP Loan Agreement \n",
      "8  (0.547): \"Person\" shall mean an individual, corporation, limited liability company, partnership, limited liability partnership, trust, other unincorporated association, business, or other legal entity, and any Governmental Authority. ||| 0001193125-19-107876:d713998dex102 \n",
      "9  (0.564): \"Person\". Any individual, corporation, limited liability company, partnership, limited liability partnership, trust, unincorporated association, business, or other legal entity, and any government or any governmental agency or political subdivision thereof. ||| 0001193125-18-189473:d794764dex101 \n",
      "10 (0.600): \"Person\" shall mean any individual, Entity or Governmental Body. ||| Datawatch \n"
     ]
    }
   ],
   "source": [
    "def closest(query, k=10):\n",
    "    Xq = model.encode([query])\n",
    "    \n",
    "    D, I = index.search(Xq, k)\n",
    "    for i in range(k):\n",
    "        distance = D[0][i]\n",
    "        info = metadata[I[0][i]]\n",
    "        contract = info[0]\n",
    "        paragraph = info[2]\n",
    "        \n",
    "        print(f'{i+1:<2} ({distance:.3f}): {paragraph} ||| {contract} ')\n",
    "\n",
    "query = \"An \\\"Individual\\\" refers to any person, corporation, venture, company, organization or Government Institution.\"\n",
    "\n",
    "print(f\"Query: {query}\")\n",
    "print(\"Closest:\")\n",
    "closest(query)"
   ]
  },
  {
   "cell_type": "code",
   "execution_count": 56,
   "metadata": {},
   "outputs": [
    {
     "name": "stdout",
     "output_type": "stream",
     "text": [
      "Query: Section Digital and records Access. Each individual shall keep complete and accurate records\n",
      "Closest:\n",
      "1  (0.531): 8. Access to Records and Documents ||| IMA between Black Rock and the Fed \n",
      "2  (0.606): Section 2.5 Computer and Books and Records Access 11 ||| ADMA \n",
      "3  (0.762): Section 2.5  Computer and Books and Records Access. Each Party shall keep complete and accurate records in all material respects in connection with the provision of Services and such records shall be kept in sufficient detail to permit independent audit of such records in accordance with this Section 2.5. Subject to the confidentiality restrictions set forth herein, during the applicable Term, each Party shall, and shall cause the other members of its Group to, provide reasonable access to the other Party and its legal representatives or independent accountants or auditors to all of its respective computer equipment and software and historical and current books and records as is reasonably necessary for the performance of the Services hereunder and for the continued business operation of the applicable Business of the other Party. To the extent that in providing Services hereunder a Party will (i) host the data, books, records or other confidential information of the other Party, (ii) maintain personally identifiable information collected by the other Party or (iii) otherwise host personal or confidential information covering the business or employees of the other Party, such Party agrees to, and to cause the other members of its Group to, abide by the written data security and privacy policies of the other Party; provided that such policies have been made available to such Party in advance. Neither Party shall use its access to the confidential information of the other Party for anything other than the receipt or provision of the Services hereunder. Notwithstanding anything to the contrary in this Agreement, no Party shall be required to disclose any information to the other Party, its legal representatives, independent accountants or auditors if doing so would (a) contravene any Law to which such Party is subject or any agreement by which such Party is bound or (b) result in the waiver of any attorney-client privilege or work product protection of such Party. ||| ADMA \n",
      "4  (0.860): Books and Records; Inspection and Audit Rights  87 ||| 0001193125-22-066929:d304564dex101 \n",
      "5  (0.863): Section 9.13. Treatment of Certain Information; No Fiduciary Duty; Confidentiality. ||| 0001193125-22-066929:d304564dex101 \n",
      "6  (0.874): \"Company Records\" has the meaning set forth in Section 7.2(g). ||| GA - Purchase Agreement \n",
      "7  (0.882): Section 3.3. Sharing of Information and Access; Notices of Default. ||| 0001193125-19-107876:d713998dex102 \n",
      "8  (0.895): 16.5 Handling. The Manager shall use the same or greater effort to avoid unauthorized use or disclosure of Confidential Information as it employs with respect to its own confidential information. The Manager shall implement, maintain, and use appropriate administrative, technical, and physical security measures to protect the Confidential Information. The Manager shall inform all persons to whom it discloses Confidential Information of its confidential nature and the restrictions on its use, and the Manager shall require each such person, by means of a written acknowledgement (or as otherwise expressly required or permitted by this Agreement), to keep all such information obtained by them as strictly confidential. For employees and officers of the Manager and its Affiliates, the confidentiality undertaking may be in the form of an annual certification. The Manager shall ensure that Affiliates and third-party agents who have access to Confidential Information are subject to confidentiality obligations at least as restrictive as those contemplated by this Article 16. (The immediately preceding sentence does not, however, prohibit the Manager from transacting with the Eligible Sellers in a manner consistent with the Manager’s customary practices, and such Eligible Sellers shall not be deemed \"third-party agents\" of the Manager for purposes of this Section 16.5.) The Manager shall retain all such documentation for as long as it is performing services under this Agreement or provide the records (or copies of such records) to the Frbny prior to destruction of the records under the Manager’s normal record retention policy. ||| IMA between Black Rock and the Fed \n",
      "9  (0.906): Section 7.01 Confidentiality. ||| Quality Technology Services - Service Agreement \n",
      "10 (0.914): 36. Electronic Execution of Assignments and Certain Other Documents. ||| 0001193125-18-189473:d794764dex101 \n"
     ]
    }
   ],
   "source": [
    "query = \"Section Digital and records Access. Each individual shall keep complete and accurate records\"\n",
    "\n",
    "print(f\"Query: {query}\")\n",
    "print(\"Closest:\")\n",
    "closest(query)\n"
   ]
  },
  {
   "cell_type": "code",
   "execution_count": 64,
   "metadata": {},
   "outputs": [
    {
     "name": "stdout",
     "output_type": "stream",
     "text": [
      "Query: These sections constitute a \"Refinancing Amendment\" pursuant to\n",
      "Closest:\n",
      "1  (0.247): Section 1. Refinancing Amendment. ||| Bright Horizons - Credit Agreement \n",
      "2  (0.375): \"Refinancing Amendment\". An amendment to this Credit Agreement in form and substance reasonably satisfactory to the Administrative Agent and the Borrowers executed by (a) each of the Borrowers, (b) the Administrative Agent, (c) each Other Term Loan Lender and Other Revolving Loan Lender, as applicable, and (d) each then existing Lender that agrees to provide any portion of the Credit Agreement Refinancing Indebtedness being incurred pursuant thereto, in accordance with §6.20. ||| 0001193125-18-189473:d794764dex101 \n",
      "3  (0.403): Refinancing Amendments 6.21 ||| 0001193125-18-189473:d794764dex101 \n",
      "4  (0.432): 6.20 Refinancing Amendments. ||| 0001193125-18-189473:d794764dex101 \n",
      "5  (0.463): (b) The Administrative Agent shall promptly notify each Lender as to the effectiveness of each Refinancing Amendment. Each of the parties hereto hereby agrees that, upon the effectiveness of any Refinancing Amendment, this Credit Agreement shall be deemed amended to the extent (but only to the extent) necessary to reflect the existence and terms of the Credit Agreement Refinancing Indebtedness incurred pursuant thereto (including any amendments necessary to treat the Loans and Commitments subject thereto as Other Term Loans, Other Term Loan Commitments, Other Revolving Loans and/or Other Revolving Loan Commitments). Any Refinancing Amendment may, without the consent of any other Lenders, effect such amendments to this Credit Agreement and the other Loan Documents as may be necessary or appropriate, in the reasonable opinion of the Administrative Agent and the Borrower, to effect the provisions of this §6.20. This §6.20 shall supersede any provisions in §2.11 and §27 to the contrary. ||| 0001193125-18-189473:d794764dex101 \n",
      "6  (0.488): Section 2. Refinancing Amendments to Existing Credit Agreement ||| Bright Horizons - Credit Agreement \n",
      "7  (0.523): \"Refinancing Amendment Agreement\" means the Amendment Agreement, dated as of May 8, 2017, by and among the Borrower, Holdings, the Administrative Agent and the Lenders party thereto. ||| Bright Horizons - Credit Agreement \n",
      "8  (0.531): Section 5.14Replacement and Refinancing of Obligations 17 ||| Oasis Petroleum - Credit Agreement \n",
      "9  (0.553): Section I. Amendments To Credit Agreement. ||| 0001104659-20-035451:tm2013029d1_ex10-1 \n",
      "10 (0.600): Section 2.  Amendments to the Credit Agreement ||| 0000916457-17-000127:exhibit101-calpinerevolver \n"
     ]
    }
   ],
   "source": [
    "query = \"These sections constitute a \\\"Refinancing Amendment\\\" pursuant to\"\n",
    "\n",
    "print(f\"Query: {query}\")\n",
    "print(\"Closest:\")\n",
    "closest(query)\n"
   ]
  },
  {
   "cell_type": "code",
   "execution_count": null,
   "metadata": {},
   "outputs": [],
   "source": []
  }
 ],
 "metadata": {
  "kernelspec": {
   "display_name": "Python 3.7.13 ('representations-CupUTBEL-py3.7')",
   "language": "python",
   "name": "python3"
  },
  "language_info": {
   "codemirror_mode": {
    "name": "ipython",
    "version": 3
   },
   "file_extension": ".py",
   "mimetype": "text/x-python",
   "name": "python",
   "nbconvert_exporter": "python",
   "pygments_lexer": "ipython3",
   "version": "3.7.13"
  },
  "orig_nbformat": 4,
  "vscode": {
   "interpreter": {
    "hash": "9249e2303bc1202923e9d416e271ac31fe8d1081002e54056ec4506083b18742"
   }
  }
 },
 "nbformat": 4,
 "nbformat_minor": 2
}
