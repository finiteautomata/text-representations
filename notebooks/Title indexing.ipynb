{
 "cells": [
  {
   "cell_type": "code",
   "execution_count": 2,
   "metadata": {},
   "outputs": [],
   "source": [
    "import faiss\n",
    "from representations.contracts import contracts\n",
    "from sentence_transformers import SentenceTransformer\n",
    "\n",
    "model = SentenceTransformer('all-mpnet-base-v2')"
   ]
  },
  {
   "cell_type": "markdown",
   "metadata": {},
   "source": [
    "## Create index\n"
   ]
  },
  {
   "cell_type": "code",
   "execution_count": 9,
   "metadata": {},
   "outputs": [
    {
     "data": {
      "text/plain": [
       "'0001144204-19-037705:tv526527_ex10-3.json'"
      ]
     },
     "execution_count": 9,
     "metadata": {},
     "output_type": "execute_result"
    }
   ],
   "source": [
    "import os\n",
    "from glob import glob \n",
    "\n",
    "base_path = \"../data/json_contracts/\"\n",
    "json_paths = glob(os.path.join(base_path, \"*.json\"))\n",
    "\n",
    "os.path.basename(json_paths[0])"
   ]
  },
  {
   "cell_type": "code",
   "execution_count": 32,
   "metadata": {},
   "outputs": [
    {
     "name": "stdout",
     "output_type": "stream",
     "text": [
      "First Level Children: [('Exhibit 10.1 Execution Version', ['1']), ('1.   Purchase Price.', ['1']), ('2.   Payments Following Closing.', ['2']), ('3.   Employees and Benefits.', ['3']), ('4.   Definitions.', ['4']), ('7.   Governing Law.', ['7']), ('8.   Entire Agreement.', ['8']), ('9.   Binding Effect.', ['9']), ('10.   No Assignment.', ['10']), ('11.   Counterparts.', ['11']), ('12.   Construction.', ['12'])]\n",
      "Second Level Children: [('a.', ['3', 'a']), ('b.', ['3', 'b']), ('a.', ['4', 'a']), ('b.', ['4', 'b']), ('c.', ['4', 'c'])]\n"
     ]
    }
   ],
   "source": [
    "import json \n",
    "\n",
    "path = json_paths[152]\n",
    "\n",
    "with open(path) as f:\n",
    "    data = json.load(f)\n",
    "\n",
    "\n",
    "first_level_children = data[\"root\"][\"children\"]\n",
    "second_level_children = [n for child in first_level_children for n in child[\"children\"]]\n",
    "third_level_children = [n for child in second_level_children for n in child[\"children\"]]\n",
    "\n",
    "print(f\"First Level Children: {[(n['title'], n['path']) for n in first_level_children]}\")\n",
    "print(f\"Second Level Children: {[(n['title'], n['path']) for n in second_level_children]}\")"
   ]
  },
  {
   "cell_type": "code",
   "execution_count": 38,
   "metadata": {},
   "outputs": [
    {
     "name": "stderr",
     "output_type": "stream",
     "text": [
      "100%|██████████| 7388/7388 [03:44<00:00, 32.86it/s]\n"
     ]
    }
   ],
   "source": [
    "import json\n",
    "from tqdm import tqdm\n",
    "\n",
    "X = []\n",
    "metadata = []\n",
    "\n",
    "contracts = {}\n",
    "\n",
    "for path in tqdm(json_paths):\n",
    "    with open(path) as f:\n",
    "        data = json.load(f)\n",
    "\n",
    "    contracts[path] = data\n",
    "\n",
    "    first_level_children = [x for x in data[\"root\"][\"children\"] if \"exhibit\" not in x[\"title\"].lower()]\n",
    "    second_level_children = [n for child in first_level_children for n in child[\"children\"]]\n",
    "\n",
    "    all_children = first_level_children + second_level_children\n",
    "    non_empty_titles = [n for n in all_children if len(n[\"title\"]) > 7]\n",
    "    X.append(model.encode([n[\"title\"] for n in non_empty_titles]))\n",
    "    metadata.append([(path, n[\"title\"], n[\"path\"]) for n in non_empty_titles])\n",
    "\n"
   ]
  },
  {
   "cell_type": "code",
   "execution_count": 40,
   "metadata": {},
   "outputs": [
    {
     "data": {
      "text/plain": [
       "7388"
      ]
     },
     "execution_count": 40,
     "metadata": {},
     "output_type": "execute_result"
    }
   ],
   "source": [
    "len(contracts)"
   ]
  },
  {
   "cell_type": "code",
   "execution_count": 46,
   "metadata": {},
   "outputs": [],
   "source": [
    "assert(len(X) == len(metadata))"
   ]
  },
  {
   "cell_type": "code",
   "execution_count": 48,
   "metadata": {},
   "outputs": [
    {
     "data": {
      "text/plain": [
       "(179660, 768)"
      ]
     },
     "execution_count": 48,
     "metadata": {},
     "output_type": "execute_result"
    }
   ],
   "source": [
    "new_metadata = []\n",
    "new_X = []\n",
    "\n",
    "for x, m in zip(X, metadata):\n",
    "    if len(x) > 0:\n",
    "        new_metadata += m\n",
    "        new_X.append(x)\n",
    "\n",
    "import numpy as np\n",
    "\n",
    "Xb = np.concatenate(new_X, axis=0)\n",
    "\n",
    "Xb.shape"
   ]
  },
  {
   "cell_type": "code",
   "execution_count": 50,
   "metadata": {},
   "outputs": [
    {
     "data": {
      "text/plain": [
       "179660"
      ]
     },
     "execution_count": 50,
     "metadata": {},
     "output_type": "execute_result"
    }
   ],
   "source": [
    "len(new_metadata)\n"
   ]
  },
  {
   "cell_type": "code",
   "execution_count": 51,
   "metadata": {},
   "outputs": [],
   "source": [
    "old_metadata = metadata\n",
    "metadata = new_metadata"
   ]
  },
  {
   "cell_type": "code",
   "execution_count": 52,
   "metadata": {},
   "outputs": [],
   "source": [
    "np.save('Xb.npy', Xb)"
   ]
  },
  {
   "cell_type": "code",
   "execution_count": 53,
   "metadata": {},
   "outputs": [],
   "source": [
    "import pickle \n",
    "\n",
    "pickle.dump(metadata, open('metadata.pkl', 'wb'))"
   ]
  },
  {
   "cell_type": "markdown",
   "metadata": {},
   "source": [
    "Create index"
   ]
  },
  {
   "cell_type": "code",
   "execution_count": 54,
   "metadata": {},
   "outputs": [],
   "source": [
    "#num cells\n",
    "nlist = 100\n",
    "k = 4\n",
    "\n",
    "dim = 768\n",
    "\n",
    "quantizer = faiss.IndexFlatL2(dim)  # the other index\n",
    "index = faiss.IndexIVFFlat(quantizer, dim, nlist)\n",
    "\n",
    "index.train(Xb)\n",
    "assert index.is_trained\n",
    "\n",
    "index.add(Xb)"
   ]
  },
  {
   "cell_type": "code",
   "execution_count": 59,
   "metadata": {},
   "outputs": [
    {
     "name": "stdout",
     "output_type": "stream",
     "text": [
      "Query: Amendents\n",
      "Closest:\n",
      "1  (0.467): ('../data/json_contracts/0001104659-18-043814:a18-16288_1ex10d2.json', 'I.          Amendments.', ['i']) \n",
      "2  (0.485): ('../data/json_contracts/0001493152-19-013031:ex10-7.json', '(e) Amendments.', ['7', 'e']) \n",
      "3  (0.485): ('../data/json_contracts/0001683168-20-000763:genius_ex1005.json', '(e)    Amendments.', ['7', 'e']) \n",
      "4  (0.485): ('../data/json_contracts/0001144204-18-019870:tv490736_ex10-4.json', '(e)   Amendments.', ['7', 'e']) \n",
      "5  (0.485): ('../data/json_contracts/0001144204-18-018403:tv489629_ex10-4.json', '(e)   Amendments.', ['7', 'e']) \n",
      "6  (0.485): ('../data/json_contracts/0001493152-18-012420:ex10-2.json', '(e) Amendments.', ['7', 'e']) \n",
      "7  (0.485): ('../data/json_contracts/0001213900-18-000380:f8k0118ex10-3_helios.json', '(e)  Amendments.', ['7', 'e']) \n",
      "8  (0.485): ('../data/json_contracts/0001213900-17-011393:f8k110217ex10-3_helios.json', '(e) Amendments.', ['7', 'e']) \n",
      "9  (0.485): ('../data/json_contracts/0001477932-20-006191:curr_ex106.json', '(e) Amendments.', ['7', 'e']) \n",
      "10 (0.496): ('../data/json_contracts/0001144204-17-059771:tv479765_ex99-1.json', '2.   Amendments', ['2']) \n"
     ]
    }
   ],
   "source": [
    "def closest(query, k=10):\n",
    "    Xq = model.encode([query])\n",
    "    \n",
    "    D, I = index.search(Xq, k)\n",
    "    for i in range(k):\n",
    "        distance = D[0][i]\n",
    "        info = metadata[I[0][i]]\n",
    "        \n",
    "        print(f'{i+1:<2} ({distance:.3f}): {info} ')\n",
    "\n",
    "query = \"Amendents\"\n",
    "print(f\"Query: {query}\")\n",
    "print(\"Closest:\")\n",
    "closest(query)"
   ]
  },
  {
   "cell_type": "code",
   "execution_count": 61,
   "metadata": {},
   "outputs": [
    {
     "name": "stdout",
     "output_type": "stream",
     "text": [
      "Query: Some definitions\n",
      "Closest:\n",
      "1  (0.250): ('../data/json_contracts/0001213900-19-024066:f8k111919ex10-1_pacific.json', '1.1 Certain Definitions.', ['1', '1']) \n",
      "2  (0.250): ('../data/json_contracts/0001213900-19-013195:f8k071519ex10-1_pacific.json', '1.1 Certain Definitions.', ['1', '1']) \n",
      "3  (0.250): ('../data/json_contracts/0001140361-21-028026:brhc10027915_ex10-1.json', '1.1  Certain Definitions.', ['1', '1']) \n",
      "4  (0.250): ('../data/json_contracts/0001140361-21-036527:brhc10030345_ex10-1.json', '1.1   Certain Definitions.', ['1', '1']) \n",
      "5  (0.250): ('../data/json_contracts/0001683168-17-002055:paceth_8k-ex1001.json', '1.1    Certain Definitions.', ['1', '1']) \n",
      "6  (0.250): ('../data/json_contracts/0001193125-17-231348:d427172dex101.json', '1.1 Certain Definitions.', ['1', '1']) \n",
      "7  (0.250): ('../data/json_contracts/0001120970-21-000069:comstockgenmatmajune24.json', '1.1 Certain Definitions.', ['1']) \n",
      "8  (0.250): ('../data/json_contracts/0001140361-21-007294:brhc10021253_ex10-2.json', '1.1   Certain Definitions.', ['1', '1']) \n",
      "9  (0.250): ('../data/json_contracts/0001140361-21-007294:brhc10021253_ex10-1.json', '1.1   Certain Definitions.', ['1', '1']) \n",
      "10 (0.250): ('../data/json_contracts/0001140361-22-007635:brhc10034676_ex10-1.json', '1.1   Certain Definitions.', ['1', '1']) \n"
     ]
    }
   ],
   "source": [
    "query = \"Some definitions\"\n",
    "print(f\"Query: {query}\")\n",
    "print(\"Closest:\")\n",
    "closest(query)"
   ]
  },
  {
   "cell_type": "code",
   "execution_count": 62,
   "metadata": {},
   "outputs": [
    {
     "name": "stdout",
     "output_type": "stream",
     "text": [
      "Query: Guarantees\n",
      "Closest:\n",
      "1  (0.580): ('../data/json_contracts/0001213900-18-012047:f8k082818ex10-4_attisindus.json', '1. Guarantee.', ['1']) \n",
      "2  (0.580): ('../data/json_contracts/0001683168-17-001642:rennova_ex-10142.json', '1.    Guarantee.', ['1']) \n",
      "3  (0.580): ('../data/json_contracts/0001477932-17-003779:aepp_ex108.json', '1. Guarantee.', ['1']) \n",
      "4  (0.580): ('../data/json_contracts/0001161697-17-000538:exhibit_4-5.json', '1.  Guarantee.', ['1']) \n",
      "5  (0.580): ('../data/json_contracts/0001214659-18-003797:ex10_5.json', '1.  Guarantee.', ['1']) \n",
      "6  (0.580): ('../data/json_contracts/0001683168-21-004350:grom_ex1004.json', '1.     Guarantee.', ['1']) \n",
      "7  (0.580): ('../data/json_contracts/0001213900-18-008643:f8k062918ex10-2_livexlive.json', '1. Guarantee.', ['1']) \n",
      "8  (0.580): ('../data/json_contracts/0001493152-21-013304:ex10-4.json', '1. Guarantee.', ['1']) \n",
      "9  (0.580): ('../data/json_contracts/0001213900-20-027578:ea126964ex10-3_livexlive.json', '1. Guarantee.', ['1']) \n",
      "10 (0.580): ('../data/json_contracts/0001171843-17-006262:exh_102.json', '1.     Guarantee.', ['1']) \n"
     ]
    }
   ],
   "source": [
    "query = \"Guarantees\"\n",
    "print(f\"Query: {query}\")\n",
    "print(\"Closest:\")\n",
    "closest(query)"
   ]
  },
  {
   "cell_type": "code",
   "execution_count": 64,
   "metadata": {},
   "outputs": [
    {
     "name": "stdout",
     "output_type": "stream",
     "text": [
      "Query: Swing loan\n",
      "Closest:\n",
      "1  (0.255): ('../data/json_contracts/0001050797-19-000019:amendedandrestatedcreditag.json', '2.2 Swing Loans', ['ii', '2']) \n",
      "2  (0.328): ('../data/json_contracts/0001109448-18-000050:exhibit1001.json', '2.4 Swing Loans.', ['2', '4']) \n",
      "3  (0.328): ('../data/json_contracts/0001109448-21-000055:alliancebernsteincrag2021ex.json', '2.4 Swing Loans.', ['2', '4']) \n",
      "4  (0.361): ('../data/json_contracts/0001332349-18-000157:exhibit101-fifthamendedand.json', '2.04 Swing Loans.', ['ii', '04']) \n",
      "5  (0.386): ('../data/json_contracts/0000950103-18-003208:dp87942_ex1001.json', '2.2 Swingline Loans', ['2', '2']) \n",
      "6  (0.386): ('../data/json_contracts/0000950103-17-011501:dp83184_ex1001.json', '2.2 Swingline Loans', ['2', '2']) \n",
      "7  (0.389): ('../data/json_contracts/0001193125-21-162201:d486186dex101.json', '2.07 Swingline Loans', ['6', '07']) \n",
      "8  (0.455): ('../data/json_contracts/0001193125-20-324682:d63467dex101.json', '2.10 Swingline Loans.', ['ii', '10']) \n",
      "9  (0.455): ('../data/json_contracts/0001193125-21-361794:d274633dex102.json', '2.10 Swingline Loans.', ['ii', '10']) \n",
      "10 (0.462): ('../data/json_contracts/0001104659-18-069601:a18-40560_1ex10d1.json', '2.6        Swingline Loans.', ['2', '6']) \n"
     ]
    }
   ],
   "source": [
    "query = \"Swing loan\"\n",
    "print(f\"Query: {query}\")\n",
    "print(\"Closest:\")\n",
    "closest(query)"
   ]
  },
  {
   "cell_type": "code",
   "execution_count": 65,
   "metadata": {},
   "outputs": [
    {
     "name": "stdout",
     "output_type": "stream",
     "text": [
      "Query: Swig loan\n",
      "Closest:\n",
      "1  (0.845): ('../data/json_contracts/0001050797-19-000019:amendedandrestatedcreditag.json', '2.2 Swing Loans', ['ii', '2']) \n",
      "2  (0.853): ('../data/json_contracts/0001193125-20-324682:d63467dex101.json', '2.10 Swingline Loans.', ['ii', '10']) \n",
      "3  (0.853): ('../data/json_contracts/0001193125-21-361794:d274633dex102.json', '2.10 Swingline Loans.', ['ii', '10']) \n",
      "4  (0.859): ('../data/json_contracts/0001332349-18-000157:exhibit101-fifthamendedand.json', '2.04 Swing Loans.', ['ii', '04']) \n",
      "5  (0.869): ('../data/json_contracts/0001109448-18-000050:exhibit1001.json', '2.4 Swing Loans.', ['2', '4']) \n",
      "6  (0.869): ('../data/json_contracts/0001109448-21-000055:alliancebernsteincrag2021ex.json', '2.4 Swing Loans.', ['2', '4']) \n",
      "7  (0.879): ('../data/json_contracts/0001104659-21-046139:tm2111966d1_ex10-1.json', '2.04  Swingline Loans.', ['ii', '04']) \n",
      "8  (0.909): ('../data/json_contracts/0001104659-18-069601:a18-40560_1ex10d1.json', '2.6        Swingline Loans.', ['2', '6']) \n",
      "9  (0.912): ('../data/json_contracts/0000950103-18-003208:dp87942_ex1001.json', '2.2 Swingline Loans', ['2', '2']) \n",
      "10 (0.912): ('../data/json_contracts/0000950103-17-011501:dp83184_ex1001.json', '2.2 Swingline Loans', ['2', '2']) \n"
     ]
    }
   ],
   "source": [
    "query = \"Swig loan\"\n",
    "print(f\"Query: {query}\")\n",
    "print(\"Closest:\")\n",
    "closest(query)"
   ]
  },
  {
   "cell_type": "code",
   "execution_count": 66,
   "metadata": {},
   "outputs": [
    {
     "name": "stdout",
     "output_type": "stream",
     "text": [
      "Query: Swinging loan\n",
      "Closest:\n",
      "1  (0.689): ('../data/json_contracts/0001334036-20-000016:exhibit101-debtamendme.json', '(g) Definitions – Swing Loan Commitment.', ['1', 'g']) \n",
      "2  (0.737): ('../data/json_contracts/0001193125-17-231348:d427172dex101.json', '2. Revolving Credit And Swing Loan Facilities', ['2']) \n",
      "3  (0.748): ('../data/json_contracts/0001564590-18-007689:snhy-ex101_105.json', 'Article Vrevolving Credit And Swing Loan Facilities', ['vrevolving']) \n",
      "4  (0.756): ('../data/json_contracts/0001193125-17-231348:d427172dex101.json', '2. Revolving Credit And Swing Loan Facilities  39', ['2']) \n",
      "5  (0.764): ('../data/json_contracts/0001104659-17-056163:a17-21441_1ex10d1.json', '(c) Refinancing of Swing Line Loans.', ['01a', 'c']) \n",
      "6  (0.783): ('../data/json_contracts/0001104659-17-053000:a17-20813_1ex10d1.json', '3.03.  Procedure for Swingline Borrowing; Refunding of Swingline Loans.', ['3', '03']) \n",
      "7  (0.809): ('../data/json_contracts/0000910612-17-000057:exhibit-10152x72017.json', 'Schedule Of Swingline Loans', ['of']) \n",
      "8  (0.809): ('../data/json_contracts/0000910612-17-000057:exhibit-10152x72017.json', 'Schedule Of Swingline Loans', ['of']) \n",
      "9  (0.819): ('../data/json_contracts/0000947871-18-000828:ss111449_ex1001.json', '(f)   Payments Directly to Swingline Lender.', ['ii', 'f']) \n",
      "10 (0.848): ('../data/json_contracts/0001193125-17-231348:d427172dex101.json', '2.6 Revolving Credit Notes and Swing Notes.', ['2', '6']) \n"
     ]
    }
   ],
   "source": [
    "query = \"Swinging loan\"\n",
    "print(f\"Query: {query}\")\n",
    "print(\"Closest:\")\n",
    "closest(query)"
   ]
  },
  {
   "cell_type": "code",
   "execution_count": null,
   "metadata": {},
   "outputs": [],
   "source": []
  }
 ],
 "metadata": {
  "kernelspec": {
   "display_name": "Python 3.7.13 ('representations-CupUTBEL-py3.7')",
   "language": "python",
   "name": "python3"
  },
  "language_info": {
   "codemirror_mode": {
    "name": "ipython",
    "version": 3
   },
   "file_extension": ".py",
   "mimetype": "text/x-python",
   "name": "python",
   "nbconvert_exporter": "python",
   "pygments_lexer": "ipython3",
   "version": "3.7.13"
  },
  "orig_nbformat": 4,
  "vscode": {
   "interpreter": {
    "hash": "9249e2303bc1202923e9d416e271ac31fe8d1081002e54056ec4506083b18742"
   }
  }
 },
 "nbformat": 4,
 "nbformat_minor": 2
}
